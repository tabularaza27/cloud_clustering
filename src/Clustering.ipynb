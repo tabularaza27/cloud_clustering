{
 "cells": [
  {
   "cell_type": "code",
   "execution_count": 6,
   "id": "39dcd97e-0f7c-43da-babc-f2e67e79a917",
   "metadata": {},
   "outputs": [
    {
     "name": "stdout",
     "output_type": "stream",
     "text": [
      "The autoreload extension is already loaded. To reload it, use:\n",
      "  %reload_ext autoreload\n"
     ]
    }
   ],
   "source": [
    "%load_ext autoreload\n",
    "%autoreload 2"
   ]
  },
  {
   "cell_type": "code",
   "execution_count": 7,
   "id": "42391e94-6a2b-4420-b3d6-5b7151047522",
   "metadata": {},
   "outputs": [],
   "source": [
    "import sys\n",
    "import glob\n",
    "import json\n",
    "import os\n",
    "from pprint import pprint"
   ]
  },
  {
   "cell_type": "code",
   "execution_count": 41,
   "id": "7b174093-c0f4-44ed-ae88-cf7be89fae5b",
   "metadata": {},
   "outputs": [],
   "source": [
    "import multiprocessing as mp"
   ]
  },
  {
   "cell_type": "code",
   "execution_count": 8,
   "id": "afea8cd6-f297-48e0-a04e-37217fae9eb2",
   "metadata": {},
   "outputs": [],
   "source": [
    "import pandas as pd\n",
    "import numpy as np\n",
    "#import pyarrow\n",
    "from scipy.special import exp10\n",
    "from tslearn.clustering import TimeSeriesKMeans, KShape\n",
    "from tslearn.metrics import dtw\n",
    "from tslearn.clustering import silhouette_score\n",
    "import sklearn\n",
    "from sklearn.preprocessing import StandardScaler\n",
    "from sklearn.metrics import mean_squared_error, mean_absolute_error"
   ]
  },
  {
   "cell_type": "code",
   "execution_count": 9,
   "id": "68905e2b-18f1-494f-955b-0b86c6745e00",
   "metadata": {},
   "outputs": [],
   "source": [
    "sys.path.append(\"./functions\")"
   ]
  },
  {
   "cell_type": "code",
   "execution_count": 28,
   "id": "51f3aa8b-4ea0-4481-a5da-e82edc2cc1f0",
   "metadata": {},
   "outputs": [],
   "source": [
    "from helper_functions import percentile, sel_cloud_center\n",
    "from clustering_functions import save_model, load_model, run_cluster\n",
    "from preproc_functions import prep_cluster_data, prep_preprocessed_cluster_data, get_pred_dfs"
   ]
  },
  {
   "cell_type": "markdown",
   "id": "f681725c-4945-4c79-9a03-10288b7b6f9d",
   "metadata": {},
   "source": [
    "## Load Data"
   ]
  },
  {
   "cell_type": "code",
   "execution_count": 11,
   "id": "56954cf7-2506-4cbe-9c8b-f5f5f4b14a69",
   "metadata": {},
   "outputs": [],
   "source": [
    "# specify directory of data\n",
    "data_dir = \"/net/n2o/wolke_scratch2/kjeggle/CIRRUS_PIPELINE/merra_extended/DATA_CUBE/dataframes\""
   ]
  },
  {
   "cell_type": "code",
   "execution_count": 12,
   "id": "ed262d98-8bf9-4ea3-ac32-e90f4e427e1e",
   "metadata": {
    "tags": []
   },
   "outputs": [],
   "source": [
    "df = pd.read_feather(data_dir+\"/cirrus_cloud_trajectories.ftr\")"
   ]
  },
  {
   "cell_type": "code",
   "execution_count": 13,
   "id": "abfdf3ab-0803-4a12-9fda-b5652e6dfc56",
   "metadata": {},
   "outputs": [],
   "source": [
    "# create dataframe with only trajectory startpoints\n",
    "start_points_df = df.query(\"timestep==0\")"
   ]
  },
  {
   "cell_type": "code",
   "execution_count": null,
   "id": "8d5beae1-bc83-4af9-a733-33d8eb3a19a0",
   "metadata": {
    "tags": []
   },
   "outputs": [],
   "source": [
    "# round temperature and omega → used for analysis and plotting\n",
    "start_points_df[\"T_rounded\"] = start_points_df[\"T\"].round()\n",
    "start_points_df[\"OMEGA_rounded\"] = start_points_df[\"OMEGA\"].round(2)"
   ]
  },
  {
   "cell_type": "code",
   "execution_count": 33,
   "id": "5bd64dd2-6e64-4a60-af3d-e62337d31333",
   "metadata": {},
   "outputs": [],
   "source": [
    "# add region variable\n",
    "start_points_df.insert(len(start_points_df.columns), \"region\", \"mid_latitudes\")# traj_df.lat_top\n",
    "start_points_df.loc[start_points_df.lat<30, \"region\"] = \"tropics\"\n",
    "start_points_df.loc[start_points_df.lat>60, \"region\"] = \"polar\""
   ]
  },
  {
   "cell_type": "code",
   "execution_count": 17,
   "id": "9093eaf4-76bf-4ef9-a976-60242bb3c24e",
   "metadata": {},
   "outputs": [],
   "source": [
    "# use all cloud ids instead of only pretrained\n",
    "cloud_ids = start_points_df.cloud_id.unique()[:"
   ]
  },
  {
   "cell_type": "markdown",
   "id": "70ebcc46-b98f-4887-86a6-034ba2a81891",
   "metadata": {},
   "source": [
    "### Option I: create clustering data from scratch"
   ]
  },
  {
   "cell_type": "code",
   "execution_count": 20,
   "id": "e9db1707-3b38-4333-aab1-22dc42575e4e",
   "metadata": {},
   "outputs": [],
   "source": [
    "### running this cell will take some time ###\n",
    "# create dataframe and arrays used as clustering input\n",
    "traj_df, traj_array, X = prep_cluster_data(df[df.cloud_id.isin(cloud_ids)],\n",
    "                                        [\"T_top\",\"T_base\"], \n",
    "                                        cloud_ids) \n",
    "\n"
   ]
  },
  {
   "cell_type": "markdown",
   "id": "a1669e22-e9df-45a3-9836-c010d44083b1",
   "metadata": {},
   "source": [
    "### Option 2 (recommended): load preprocessed clustering data directly "
   ]
  },
  {
   "cell_type": "code",
   "execution_count": 30,
   "id": "ff53f0d2-5143-48cc-8d28-d8aa629cee61",
   "metadata": {},
   "outputs": [],
   "source": [
    "traj_df = pd.read_feather(data_dir+\"/cluster_input_data.ftr\")"
   ]
  },
  {
   "cell_type": "code",
   "execution_count": 31,
   "id": "3b2c04a0-fcf1-4728-8573-87474a27f984",
   "metadata": {},
   "outputs": [],
   "source": [
    "traj_array, X = prep_preprocessed_cluster_data(traj_df, clustering_features=[\"T_top\",\"T_base\"])"
   ]
  },
  {
   "cell_type": "markdown",
   "id": "30f7e279-c70e-4bc3-84b7-f602dd27fef6",
   "metadata": {},
   "source": [
    "## Fit Clustering Model"
   ]
  },
  {
   "cell_type": "code",
   "execution_count": 22,
   "id": "9ffac089-9dd5-4911-933e-4af75be73edf",
   "metadata": {},
   "outputs": [],
   "source": [
    "clustering_kws = {\"metric\":\"dtw\",\"max_iter\":10,\"max_iter_barycenter\":10,\"random_state\":3,\"tol\":0.1}"
   ]
  },
  {
   "cell_type": "markdown",
   "id": "bd559351-9b6d-4b01-bc45-effcb5290a16",
   "metadata": {},
   "source": [
    "### Run single clustering model for specified k "
   ]
  },
  {
   "cell_type": "code",
   "execution_count": 23,
   "id": "7a201c7d-a725-452a-aa44-ad3213ac9537",
   "metadata": {},
   "outputs": [],
   "source": [
    "n_cloud_ids = \"all\" # alternatively specify how many clouds should be used for clustering as int\n",
    "k = 4 # number of clusters"
   ]
  },
  {
   "cell_type": "code",
   "execution_count": 24,
   "id": "9d081d8a-77df-4c85-a3b3-82e37568adcd",
   "metadata": {},
   "outputs": [],
   "source": [
    "if n_cloud_ids == \"all\":\n",
    "    cluster_cloud_ids = cloud_ids\n",
    "else:\n",
    "    cluster_cloud_ids = np.random.choice(cloud_ids,size=n_cloud_ids,replace=False)"
   ]
  },
  {
   "cell_type": "code",
   "execution_count": 25,
   "id": "dcbefc30-53e8-4aa8-b38e-5d3bff55a0fb",
   "metadata": {},
   "outputs": [
    {
     "name": "stdout",
     "output_type": "stream",
     "text": [
      "4 (10000, 24, 2)\n"
     ]
    },
    {
     "name": "stderr",
     "output_type": "stream",
     "text": [
      "[Parallel(n_jobs=1)]: Using backend SequentialBackend with 1 concurrent workers.\n",
      "[Parallel(n_jobs=1)]: Done 10000 out of 10000 | elapsed:    1.7s finished\n",
      "[Parallel(n_jobs=1)]: Using backend SequentialBackend with 1 concurrent workers.\n",
      "[Parallel(n_jobs=1)]: Done 30000 out of 30000 | elapsed:    2.6s finished\n",
      "[Parallel(n_jobs=1)]: Using backend SequentialBackend with 1 concurrent workers.\n",
      "[Parallel(n_jobs=1)]: Done 30000 out of 30000 | elapsed:    2.3s finished\n",
      "[Parallel(n_jobs=1)]: Using backend SequentialBackend with 1 concurrent workers.\n",
      "[Parallel(n_jobs=1)]: Done 30000 out of 30000 | elapsed:    2.4s finished\n",
      "[Parallel(n_jobs=1)]: Using backend SequentialBackend with 1 concurrent workers.\n",
      "[Parallel(n_jobs=1)]: Done 40000 out of 40000 | elapsed:    3.6s finished\n"
     ]
    },
    {
     "name": "stdout",
     "output_type": "stream",
     "text": [
      "4157.845 --> "
     ]
    },
    {
     "name": "stderr",
     "output_type": "stream",
     "text": [
      "[Parallel(n_jobs=1)]: Using backend SequentialBackend with 1 concurrent workers.\n",
      "[Parallel(n_jobs=1)]: Done 40000 out of 40000 | elapsed:    3.6s finished\n"
     ]
    },
    {
     "name": "stdout",
     "output_type": "stream",
     "text": [
      "2292.730 --> "
     ]
    },
    {
     "name": "stderr",
     "output_type": "stream",
     "text": [
      "[Parallel(n_jobs=1)]: Using backend SequentialBackend with 1 concurrent workers.\n",
      "[Parallel(n_jobs=1)]: Done 40000 out of 40000 | elapsed:    3.6s finished\n"
     ]
    },
    {
     "name": "stdout",
     "output_type": "stream",
     "text": [
      "2222.228 --> "
     ]
    },
    {
     "name": "stderr",
     "output_type": "stream",
     "text": [
      "[Parallel(n_jobs=1)]: Using backend SequentialBackend with 1 concurrent workers.\n",
      "[Parallel(n_jobs=1)]: Done 40000 out of 40000 | elapsed:    3.6s finished\n"
     ]
    },
    {
     "name": "stdout",
     "output_type": "stream",
     "text": [
      "2180.575 --> "
     ]
    },
    {
     "name": "stderr",
     "output_type": "stream",
     "text": [
      "[Parallel(n_jobs=1)]: Using backend SequentialBackend with 1 concurrent workers.\n",
      "[Parallel(n_jobs=1)]: Done 40000 out of 40000 | elapsed:    3.6s finished\n"
     ]
    },
    {
     "name": "stdout",
     "output_type": "stream",
     "text": [
      "2144.555 --> "
     ]
    },
    {
     "name": "stderr",
     "output_type": "stream",
     "text": [
      "[Parallel(n_jobs=1)]: Using backend SequentialBackend with 1 concurrent workers.\n",
      "[Parallel(n_jobs=1)]: Done 40000 out of 40000 | elapsed:    3.6s finished\n"
     ]
    },
    {
     "name": "stdout",
     "output_type": "stream",
     "text": [
      "2110.781 --> "
     ]
    },
    {
     "name": "stderr",
     "output_type": "stream",
     "text": [
      "[Parallel(n_jobs=1)]: Using backend SequentialBackend with 1 concurrent workers.\n",
      "[Parallel(n_jobs=1)]: Done 40000 out of 40000 | elapsed:    3.6s finished\n"
     ]
    },
    {
     "name": "stdout",
     "output_type": "stream",
     "text": [
      "2092.099 --> "
     ]
    },
    {
     "name": "stderr",
     "output_type": "stream",
     "text": [
      "[Parallel(n_jobs=1)]: Using backend SequentialBackend with 1 concurrent workers.\n",
      "[Parallel(n_jobs=1)]: Done 40000 out of 40000 | elapsed:    3.6s finished\n"
     ]
    },
    {
     "name": "stdout",
     "output_type": "stream",
     "text": [
      "2084.496 --> "
     ]
    },
    {
     "name": "stderr",
     "output_type": "stream",
     "text": [
      "[Parallel(n_jobs=1)]: Using backend SequentialBackend with 1 concurrent workers.\n",
      "[Parallel(n_jobs=1)]: Done 40000 out of 40000 | elapsed:    3.6s finished\n"
     ]
    },
    {
     "name": "stdout",
     "output_type": "stream",
     "text": [
      "2081.986 --> "
     ]
    },
    {
     "name": "stderr",
     "output_type": "stream",
     "text": [
      "[Parallel(n_jobs=1)]: Using backend SequentialBackend with 1 concurrent workers.\n",
      "[Parallel(n_jobs=1)]: Done 40000 out of 40000 | elapsed:    3.6s finished\n"
     ]
    },
    {
     "name": "stdout",
     "output_type": "stream",
     "text": [
      "2080.822 --> \n"
     ]
    },
    {
     "name": "stderr",
     "output_type": "stream",
     "text": [
      "[Parallel(n_jobs=1)]: Using backend SequentialBackend with 1 concurrent workers.\n",
      "[Parallel(n_jobs=1)]: Done 40000 out of 40000 | elapsed:    3.6s finished\n"
     ]
    },
    {
     "name": "stdout",
     "output_type": "stream",
     "text": [
      "created: cluster_models/cluster_model_k4\n",
      "saved model to file\n",
      "saved cloud_ids to disk\n",
      "saved model\n"
     ]
    }
   ],
   "source": [
    "model =    run_cluster(k, \n",
    "                       X, \n",
    "                       cluster_cloud_ids,\n",
    "                       clustering_kws,\n",
    "                       model_id=f\"cluster_model_k{k}\",\n",
    "                       model_path=\"cluster_models\")\n"
   ]
  },
  {
   "cell_type": "code",
   "execution_count": 26,
   "id": "fc72243f-9932-47ef-8b1f-ed3adb15c305",
   "metadata": {},
   "outputs": [
    {
     "data": {
      "text/plain": [
       "array([0, 0, 0, ..., 2, 2, 1])"
      ]
     },
     "execution_count": 26,
     "metadata": {},
     "output_type": "execute_result"
    }
   ],
   "source": [
    "model.labels_"
   ]
  },
  {
   "cell_type": "code",
   "execution_count": 34,
   "id": "ba0de5d3-6db9-420e-8a6a-f0a7bae32b60",
   "metadata": {},
   "outputs": [
    {
     "name": "stderr",
     "output_type": "stream",
     "text": [
      "/net/n2o/wolke/kjeggle/Repos/cloud_clustering/src/./functions/preproc_functions.py:40: FutureWarning: In a future version of pandas all arguments of DataFrame.drop except for the argument 'labels' will be keyword-only.\n",
      "  traj_df = pd.merge(traj_df_, cluster_pred_df.drop([\"trajectory_id_top\",\"trajectory_id_base\",\"T_rounded_base\",\"T_rounded_top\",\"OMEGA_rounded_base\",\"OMEGA_rounded_top\",\"DU_sup_log_base\",\"DU_sup_log_top\",\"nightday_flag_top\",\"nightday_flag_base\",\"region_top\"],1), on=\"cloud_id\")\n"
     ]
    }
   ],
   "source": [
    "cluster_pred_df, traj_df = get_pred_dfs(start_points_df, \n",
    "                                        traj_df, \n",
    "                                        traj_array, \n",
    "                                        model.labels_,\n",
    "                                        var=\"T\")"
   ]
  },
  {
   "cell_type": "code",
   "execution_count": 35,
   "id": "369bf733-a7ac-47b7-8333-63845513f34c",
   "metadata": {},
   "outputs": [
    {
     "data": {
      "text/html": [
       "<div>\n",
       "<style scoped>\n",
       "    .dataframe tbody tr th:only-of-type {\n",
       "        vertical-align: middle;\n",
       "    }\n",
       "\n",
       "    .dataframe tbody tr th {\n",
       "        vertical-align: top;\n",
       "    }\n",
       "\n",
       "    .dataframe thead th {\n",
       "        text-align: right;\n",
       "    }\n",
       "</style>\n",
       "<table border=\"1\" class=\"dataframe\">\n",
       "  <thead>\n",
       "    <tr style=\"text-align: right;\">\n",
       "      <th></th>\n",
       "      <th>cloud_top_traj_id</th>\n",
       "      <th>cloud_id</th>\n",
       "      <th>cloud_base_traj_id</th>\n",
       "      <th>cloud_center_traj_id</th>\n",
       "      <th>cluster_idx</th>\n",
       "      <th>trajectory_id_top</th>\n",
       "      <th>dz_top_v2_top</th>\n",
       "      <th>lev_top</th>\n",
       "      <th>iwc_top</th>\n",
       "      <th>icnc_5um_top</th>\n",
       "      <th>...</th>\n",
       "      <th>icnc_5um_log_base</th>\n",
       "      <th>icnc_100um_log_base</th>\n",
       "      <th>reffcli_base</th>\n",
       "      <th>season_base</th>\n",
       "      <th>region_base</th>\n",
       "      <th>nightday_flag_base</th>\n",
       "      <th>T_rounded_base</th>\n",
       "      <th>OMEGA_rounded_base</th>\n",
       "      <th>DU_sup_log_base</th>\n",
       "      <th>DU_sub_log_base</th>\n",
       "    </tr>\n",
       "  </thead>\n",
       "  <tbody>\n",
       "    <tr>\n",
       "      <th>0</th>\n",
       "      <td>200701_0</td>\n",
       "      <td>2007-01-03 04:00:000.0-33.251.0</td>\n",
       "      <td>200701_21</td>\n",
       "      <td>200701_10</td>\n",
       "      <td>0</td>\n",
       "      <td>200701_0</td>\n",
       "      <td>90.0</td>\n",
       "      <td>17280.0</td>\n",
       "      <td>1.069843</td>\n",
       "      <td>0.098097</td>\n",
       "      <td>...</td>\n",
       "      <td>-1.203616</td>\n",
       "      <td>-4.853872</td>\n",
       "      <td>19.221583</td>\n",
       "      <td>DJF</td>\n",
       "      <td>tropics</td>\n",
       "      <td>1.0</td>\n",
       "      <td>192.0</td>\n",
       "      <td>0.01</td>\n",
       "      <td>-5.443732</td>\n",
       "      <td>-4.053901</td>\n",
       "    </tr>\n",
       "    <tr>\n",
       "      <th>1</th>\n",
       "      <td>200701_1</td>\n",
       "      <td>2007-01-03 04:00:000.25-33.251.0</td>\n",
       "      <td>200701_22</td>\n",
       "      <td>200701_11</td>\n",
       "      <td>0</td>\n",
       "      <td>200701_1</td>\n",
       "      <td>90.0</td>\n",
       "      <td>17280.0</td>\n",
       "      <td>1.102443</td>\n",
       "      <td>0.098185</td>\n",
       "      <td>...</td>\n",
       "      <td>-0.841881</td>\n",
       "      <td>-3.581036</td>\n",
       "      <td>21.440011</td>\n",
       "      <td>DJF</td>\n",
       "      <td>tropics</td>\n",
       "      <td>1.0</td>\n",
       "      <td>192.0</td>\n",
       "      <td>0.00</td>\n",
       "      <td>-5.364338</td>\n",
       "      <td>-4.043067</td>\n",
       "    </tr>\n",
       "    <tr>\n",
       "      <th>2</th>\n",
       "      <td>200701_2</td>\n",
       "      <td>2007-01-03 04:00:000.5-33.251.0</td>\n",
       "      <td>200701_23</td>\n",
       "      <td>200701_12</td>\n",
       "      <td>0</td>\n",
       "      <td>200701_2</td>\n",
       "      <td>82.5</td>\n",
       "      <td>17280.0</td>\n",
       "      <td>2.186585</td>\n",
       "      <td>0.160492</td>\n",
       "      <td>...</td>\n",
       "      <td>-1.034875</td>\n",
       "      <td>-4.358526</td>\n",
       "      <td>19.989646</td>\n",
       "      <td>DJF</td>\n",
       "      <td>tropics</td>\n",
       "      <td>1.0</td>\n",
       "      <td>192.0</td>\n",
       "      <td>-0.00</td>\n",
       "      <td>-5.297240</td>\n",
       "      <td>-4.032497</td>\n",
       "    </tr>\n",
       "    <tr>\n",
       "      <th>3</th>\n",
       "      <td>200701_3</td>\n",
       "      <td>2007-01-03 04:00:000.75-33.251.0</td>\n",
       "      <td>200701_24</td>\n",
       "      <td>200701_13</td>\n",
       "      <td>0</td>\n",
       "      <td>200701_3</td>\n",
       "      <td>75.0</td>\n",
       "      <td>17280.0</td>\n",
       "      <td>2.412285</td>\n",
       "      <td>0.174655</td>\n",
       "      <td>...</td>\n",
       "      <td>-1.059946</td>\n",
       "      <td>-4.194467</td>\n",
       "      <td>20.038454</td>\n",
       "      <td>DJF</td>\n",
       "      <td>tropics</td>\n",
       "      <td>1.0</td>\n",
       "      <td>193.0</td>\n",
       "      <td>-0.01</td>\n",
       "      <td>-5.101329</td>\n",
       "      <td>-3.989623</td>\n",
       "    </tr>\n",
       "    <tr>\n",
       "      <th>4</th>\n",
       "      <td>200701_5</td>\n",
       "      <td>2007-01-03 04:00:001.25-33.01.0</td>\n",
       "      <td>200701_26</td>\n",
       "      <td>200701_15</td>\n",
       "      <td>0</td>\n",
       "      <td>200701_5</td>\n",
       "      <td>96.0</td>\n",
       "      <td>17280.0</td>\n",
       "      <td>1.620471</td>\n",
       "      <td>0.130176</td>\n",
       "      <td>...</td>\n",
       "      <td>-0.902290</td>\n",
       "      <td>-3.474469</td>\n",
       "      <td>20.655014</td>\n",
       "      <td>DJF</td>\n",
       "      <td>tropics</td>\n",
       "      <td>1.0</td>\n",
       "      <td>192.0</td>\n",
       "      <td>-0.01</td>\n",
       "      <td>-4.893218</td>\n",
       "      <td>-3.927620</td>\n",
       "    </tr>\n",
       "  </tbody>\n",
       "</table>\n",
       "<p>5 rows × 39 columns</p>\n",
       "</div>"
      ],
      "text/plain": [
       "  cloud_top_traj_id                          cloud_id cloud_base_traj_id  \\\n",
       "0          200701_0   2007-01-03 04:00:000.0-33.251.0          200701_21   \n",
       "1          200701_1  2007-01-03 04:00:000.25-33.251.0          200701_22   \n",
       "2          200701_2   2007-01-03 04:00:000.5-33.251.0          200701_23   \n",
       "3          200701_3  2007-01-03 04:00:000.75-33.251.0          200701_24   \n",
       "4          200701_5   2007-01-03 04:00:001.25-33.01.0          200701_26   \n",
       "\n",
       "  cloud_center_traj_id cluster_idx trajectory_id_top  dz_top_v2_top  lev_top  \\\n",
       "0            200701_10           0          200701_0           90.0  17280.0   \n",
       "1            200701_11           0          200701_1           90.0  17280.0   \n",
       "2            200701_12           0          200701_2           82.5  17280.0   \n",
       "3            200701_13           0          200701_3           75.0  17280.0   \n",
       "4            200701_15           0          200701_5           96.0  17280.0   \n",
       "\n",
       "    iwc_top  icnc_5um_top  ...  icnc_5um_log_base  icnc_100um_log_base  \\\n",
       "0  1.069843      0.098097  ...          -1.203616            -4.853872   \n",
       "1  1.102443      0.098185  ...          -0.841881            -3.581036   \n",
       "2  2.186585      0.160492  ...          -1.034875            -4.358526   \n",
       "3  2.412285      0.174655  ...          -1.059946            -4.194467   \n",
       "4  1.620471      0.130176  ...          -0.902290            -3.474469   \n",
       "\n",
       "   reffcli_base  season_base  region_base nightday_flag_base T_rounded_base  \\\n",
       "0     19.221583          DJF      tropics                1.0          192.0   \n",
       "1     21.440011          DJF      tropics                1.0          192.0   \n",
       "2     19.989646          DJF      tropics                1.0          192.0   \n",
       "3     20.038454          DJF      tropics                1.0          193.0   \n",
       "4     20.655014          DJF      tropics                1.0          192.0   \n",
       "\n",
       "   OMEGA_rounded_base  DU_sup_log_base  DU_sub_log_base  \n",
       "0                0.01        -5.443732        -4.053901  \n",
       "1                0.00        -5.364338        -4.043067  \n",
       "2               -0.00        -5.297240        -4.032497  \n",
       "3               -0.01        -5.101329        -3.989623  \n",
       "4               -0.01        -4.893218        -3.927620  \n",
       "\n",
       "[5 rows x 39 columns]"
      ]
     },
     "execution_count": 35,
     "metadata": {},
     "output_type": "execute_result"
    }
   ],
   "source": [
    "cluster_pred_df.head(5)"
   ]
  },
  {
   "cell_type": "code",
   "execution_count": 36,
   "id": "7310fe4e-6da3-4e03-af75-8866dbcc813a",
   "metadata": {},
   "outputs": [
    {
     "data": {
      "text/html": [
       "<div>\n",
       "<style scoped>\n",
       "    .dataframe tbody tr th:only-of-type {\n",
       "        vertical-align: middle;\n",
       "    }\n",
       "\n",
       "    .dataframe tbody tr th {\n",
       "        vertical-align: top;\n",
       "    }\n",
       "\n",
       "    .dataframe thead th {\n",
       "        text-align: right;\n",
       "    }\n",
       "</style>\n",
       "<table border=\"1\" class=\"dataframe\">\n",
       "  <thead>\n",
       "    <tr style=\"text-align: right;\">\n",
       "      <th></th>\n",
       "      <th>T_top</th>\n",
       "      <th>OMEGA_top</th>\n",
       "      <th>IWC_top</th>\n",
       "      <th>LWC_top</th>\n",
       "      <th>RH_ice_top</th>\n",
       "      <th>DU_sup_top</th>\n",
       "      <th>DU_sub_top</th>\n",
       "      <th>DU_sup_log_top</th>\n",
       "      <th>lonr_top</th>\n",
       "      <th>latr_top</th>\n",
       "      <th>...</th>\n",
       "      <th>iwc_base_y</th>\n",
       "      <th>icnc_5um_base_y</th>\n",
       "      <th>icnc_100um_base_y</th>\n",
       "      <th>iwc_log_base_y</th>\n",
       "      <th>icnc_5um_log_base_y</th>\n",
       "      <th>icnc_100um_log_base_y</th>\n",
       "      <th>reffcli_base_y</th>\n",
       "      <th>season_base_y</th>\n",
       "      <th>region</th>\n",
       "      <th>DU_sub_log_base_y</th>\n",
       "    </tr>\n",
       "  </thead>\n",
       "  <tbody>\n",
       "    <tr>\n",
       "      <th>0</th>\n",
       "      <td>191.451</td>\n",
       "      <td>0.014</td>\n",
       "      <td>0.0</td>\n",
       "      <td>0.0</td>\n",
       "      <td>1.034866</td>\n",
       "      <td>0.000004</td>\n",
       "      <td>0.000060</td>\n",
       "      <td>-5.390179</td>\n",
       "      <td>-33.25</td>\n",
       "      <td>0.00</td>\n",
       "      <td>...</td>\n",
       "      <td>0.507544</td>\n",
       "      <td>0.062573</td>\n",
       "      <td>0.000014</td>\n",
       "      <td>-0.294526</td>\n",
       "      <td>-1.203616</td>\n",
       "      <td>-4.853872</td>\n",
       "      <td>19.221583</td>\n",
       "      <td>DJF</td>\n",
       "      <td>tropics</td>\n",
       "      <td>-4.053901</td>\n",
       "    </tr>\n",
       "    <tr>\n",
       "      <th>1</th>\n",
       "      <td>190.806</td>\n",
       "      <td>0.016</td>\n",
       "      <td>0.0</td>\n",
       "      <td>0.0</td>\n",
       "      <td>1.153714</td>\n",
       "      <td>0.000004</td>\n",
       "      <td>0.000061</td>\n",
       "      <td>-5.405313</td>\n",
       "      <td>-33.50</td>\n",
       "      <td>0.25</td>\n",
       "      <td>...</td>\n",
       "      <td>0.507544</td>\n",
       "      <td>0.062573</td>\n",
       "      <td>0.000014</td>\n",
       "      <td>-0.294526</td>\n",
       "      <td>-1.203616</td>\n",
       "      <td>-4.853872</td>\n",
       "      <td>19.221583</td>\n",
       "      <td>DJF</td>\n",
       "      <td>tropics</td>\n",
       "      <td>-4.053901</td>\n",
       "    </tr>\n",
       "    <tr>\n",
       "      <th>2</th>\n",
       "      <td>190.909</td>\n",
       "      <td>0.002</td>\n",
       "      <td>0.0</td>\n",
       "      <td>0.0</td>\n",
       "      <td>1.120918</td>\n",
       "      <td>0.000004</td>\n",
       "      <td>0.000062</td>\n",
       "      <td>-5.407863</td>\n",
       "      <td>-34.00</td>\n",
       "      <td>0.25</td>\n",
       "      <td>...</td>\n",
       "      <td>0.507544</td>\n",
       "      <td>0.062573</td>\n",
       "      <td>0.000014</td>\n",
       "      <td>-0.294526</td>\n",
       "      <td>-1.203616</td>\n",
       "      <td>-4.853872</td>\n",
       "      <td>19.221583</td>\n",
       "      <td>DJF</td>\n",
       "      <td>tropics</td>\n",
       "      <td>-4.053901</td>\n",
       "    </tr>\n",
       "    <tr>\n",
       "      <th>3</th>\n",
       "      <td>190.930</td>\n",
       "      <td>-0.008</td>\n",
       "      <td>0.0</td>\n",
       "      <td>0.0</td>\n",
       "      <td>1.116948</td>\n",
       "      <td>0.000005</td>\n",
       "      <td>0.000068</td>\n",
       "      <td>-5.282858</td>\n",
       "      <td>-34.25</td>\n",
       "      <td>0.50</td>\n",
       "      <td>...</td>\n",
       "      <td>0.507544</td>\n",
       "      <td>0.062573</td>\n",
       "      <td>0.000014</td>\n",
       "      <td>-0.294526</td>\n",
       "      <td>-1.203616</td>\n",
       "      <td>-4.853872</td>\n",
       "      <td>19.221583</td>\n",
       "      <td>DJF</td>\n",
       "      <td>tropics</td>\n",
       "      <td>-4.053901</td>\n",
       "    </tr>\n",
       "    <tr>\n",
       "      <th>4</th>\n",
       "      <td>190.638</td>\n",
       "      <td>-0.005</td>\n",
       "      <td>0.0</td>\n",
       "      <td>0.0</td>\n",
       "      <td>1.186994</td>\n",
       "      <td>0.000005</td>\n",
       "      <td>0.000068</td>\n",
       "      <td>-5.282858</td>\n",
       "      <td>-34.50</td>\n",
       "      <td>0.50</td>\n",
       "      <td>...</td>\n",
       "      <td>0.507544</td>\n",
       "      <td>0.062573</td>\n",
       "      <td>0.000014</td>\n",
       "      <td>-0.294526</td>\n",
       "      <td>-1.203616</td>\n",
       "      <td>-4.853872</td>\n",
       "      <td>19.221583</td>\n",
       "      <td>DJF</td>\n",
       "      <td>tropics</td>\n",
       "      <td>-4.053901</td>\n",
       "    </tr>\n",
       "  </tbody>\n",
       "</table>\n",
       "<p>5 rows × 97 columns</p>\n",
       "</div>"
      ],
      "text/plain": [
       "     T_top  OMEGA_top  IWC_top  LWC_top  RH_ice_top  DU_sup_top  DU_sub_top  \\\n",
       "0  191.451      0.014      0.0      0.0    1.034866    0.000004    0.000060   \n",
       "1  190.806      0.016      0.0      0.0    1.153714    0.000004    0.000061   \n",
       "2  190.909      0.002      0.0      0.0    1.120918    0.000004    0.000062   \n",
       "3  190.930     -0.008      0.0      0.0    1.116948    0.000005    0.000068   \n",
       "4  190.638     -0.005      0.0      0.0    1.186994    0.000005    0.000068   \n",
       "\n",
       "   DU_sup_log_top  lonr_top  latr_top  ... iwc_base_y  icnc_5um_base_y  \\\n",
       "0       -5.390179    -33.25      0.00  ...   0.507544         0.062573   \n",
       "1       -5.405313    -33.50      0.25  ...   0.507544         0.062573   \n",
       "2       -5.407863    -34.00      0.25  ...   0.507544         0.062573   \n",
       "3       -5.282858    -34.25      0.50  ...   0.507544         0.062573   \n",
       "4       -5.282858    -34.50      0.50  ...   0.507544         0.062573   \n",
       "\n",
       "   icnc_100um_base_y  iwc_log_base_y  icnc_5um_log_base_y  \\\n",
       "0           0.000014       -0.294526            -1.203616   \n",
       "1           0.000014       -0.294526            -1.203616   \n",
       "2           0.000014       -0.294526            -1.203616   \n",
       "3           0.000014       -0.294526            -1.203616   \n",
       "4           0.000014       -0.294526            -1.203616   \n",
       "\n",
       "  icnc_100um_log_base_y  reffcli_base_y  season_base_y   region  \\\n",
       "0             -4.853872       19.221583            DJF  tropics   \n",
       "1             -4.853872       19.221583            DJF  tropics   \n",
       "2             -4.853872       19.221583            DJF  tropics   \n",
       "3             -4.853872       19.221583            DJF  tropics   \n",
       "4             -4.853872       19.221583            DJF  tropics   \n",
       "\n",
       "   DU_sub_log_base_y  \n",
       "0          -4.053901  \n",
       "1          -4.053901  \n",
       "2          -4.053901  \n",
       "3          -4.053901  \n",
       "4          -4.053901  \n",
       "\n",
       "[5 rows x 97 columns]"
      ]
     },
     "execution_count": 36,
     "metadata": {},
     "output_type": "execute_result"
    }
   ],
   "source": [
    "traj_df.head(5)"
   ]
  },
  {
   "cell_type": "markdown",
   "id": "7daa06fc-a298-4faa-8d76-7ceb555d27ca",
   "metadata": {},
   "source": [
    "## Run for different cluster K in parallel"
   ]
  },
  {
   "cell_type": "code",
   "execution_count": null,
   "id": "71b3d290-59f4-44be-a110-db94f866b7e4",
   "metadata": {
    "tags": []
   },
   "outputs": [],
   "source": [
    "if __name__ == '__main__':\n",
    "    pool = mp.Pool(8)\n",
    "    sum_of_squared_distances = []\n",
    "    km_dbas = []\n",
    "    K = range(2,9)\n",
    "    for k in K:\n",
    "        print(f\"k: {k}\")\n",
    "        pool.apply_async(run_cluster, args=(k, X, cluster_cloud_ids, clustering_kws,f\"cluster_model_k{k}\"))\n",
    "    pool.close()"
   ]
  },
  {
   "cell_type": "markdown",
   "id": "2484fb8e-9779-43a8-92de-88e17821ba31",
   "metadata": {},
   "source": [
    "## Vertical velocity clustering\n",
    "\n",
    "for each temperature cluster, do another clustering along the vertical velocity at cloud center"
   ]
  },
  {
   "cell_type": "code",
   "execution_count": 37,
   "id": "26cd2dd6-e59c-421f-b7e2-5d1bba21385e",
   "metadata": {},
   "outputs": [],
   "source": [
    "clustering_kws = {\"metric\":\"dtw\",\"max_iter\":10,\"max_iter_barycenter\":10,\"random_state\":3,\"tol\":0.01}"
   ]
  },
  {
   "cell_type": "code",
   "execution_count": 38,
   "id": "792668b3-3c80-4ebb-9094-1eedf34768f1",
   "metadata": {},
   "outputs": [],
   "source": [
    "parent_cluster_pred_df = cluster_pred_df "
   ]
  },
  {
   "cell_type": "code",
   "execution_count": 39,
   "id": "78a7c08d-c1fe-4a37-9125-2cdf146286e1",
   "metadata": {},
   "outputs": [],
   "source": [
    "n_parent_clusters = parent_cluster_pred_df.cluster_idx.unique().shape[0]"
   ]
  },
  {
   "cell_type": "code",
   "execution_count": 48,
   "id": "8be98d7b-6070-4fac-9ece-2b226dfb631f",
   "metadata": {
    "collapsed": true,
    "jupyter": {
     "outputs_hidden": true
    },
    "tags": []
   },
   "outputs": [
    {
     "name": "stdout",
     "output_type": "stream",
     "text": [
      "0\n",
      "3 (1035, 24, 1)\n"
     ]
    },
    {
     "name": "stderr",
     "output_type": "stream",
     "text": [
      "[Parallel(n_jobs=1)]: Using backend SequentialBackend with 1 concurrent workers.\n",
      "[Parallel(n_jobs=1)]: Done 1035 out of 1035 | elapsed:    0.1s finished\n",
      "[Parallel(n_jobs=1)]: Using backend SequentialBackend with 1 concurrent workers.\n"
     ]
    },
    {
     "name": "stdout",
     "output_type": "stream",
     "text": [
      "0 (1035, 24, 1)\n",
      "2\n"
     ]
    },
    {
     "name": "stderr",
     "output_type": "stream",
     "text": [
      "[Parallel(n_jobs=1)]: Done 3105 out of 3105 | elapsed:    0.2s finished\n",
      "[Parallel(n_jobs=1)]: Using backend SequentialBackend with 1 concurrent workers.\n",
      "[Parallel(n_jobs=1)]: Done 3105 out of 3105 | elapsed:    0.2s finished\n",
      "[Parallel(n_jobs=1)]: Using backend SequentialBackend with 1 concurrent workers.\n",
      "[Parallel(n_jobs=1)]: Done 3105 out of 3105 | elapsed:    0.2s finished\n"
     ]
    },
    {
     "name": "stdout",
     "output_type": "stream",
     "text": [
      "0.017 --> "
     ]
    },
    {
     "name": "stderr",
     "output_type": "stream",
     "text": [
      "[Parallel(n_jobs=1)]: Using backend SequentialBackend with 1 concurrent workers.\n",
      "[Parallel(n_jobs=1)]: Done 3105 out of 3105 | elapsed:    0.2s finished\n"
     ]
    },
    {
     "name": "stdout",
     "output_type": "stream",
     "text": [
      "0.013 --> \n"
     ]
    },
    {
     "name": "stderr",
     "output_type": "stream",
     "text": [
      "[Parallel(n_jobs=1)]: Using backend SequentialBackend with 1 concurrent workers.\n",
      "[Parallel(n_jobs=1)]: Done 3105 out of 3105 | elapsed:    0.2s finished\n"
     ]
    },
    {
     "name": "stdout",
     "output_type": "stream",
     "text": [
      "created: ./cluster_models/all_4_temp_0_omega_all_data\n",
      "saved model to file\n",
      "saved cloud_ids to disk\n",
      "saved model\n",
      "3 (2586, 24, 1)\n"
     ]
    },
    {
     "name": "stderr",
     "output_type": "stream",
     "text": [
      "[Parallel(n_jobs=1)]: Using backend SequentialBackend with 1 concurrent workers.\n"
     ]
    },
    {
     "name": "stdout",
     "output_type": "stream",
     "text": [
      "2 (2586, 24, 1)\n",
      "1\n"
     ]
    },
    {
     "name": "stderr",
     "output_type": "stream",
     "text": [
      "[Parallel(n_jobs=1)]: Done 2586 out of 2586 | elapsed:    0.1s finished\n",
      "[Parallel(n_jobs=1)]: Using backend SequentialBackend with 1 concurrent workers.\n",
      "[Parallel(n_jobs=1)]: Done 7758 out of 7758 | elapsed:    0.5s finished\n",
      "[Parallel(n_jobs=1)]: Using backend SequentialBackend with 1 concurrent workers.\n",
      "[Parallel(n_jobs=1)]: Done 7758 out of 7758 | elapsed:    0.5s finished\n",
      "[Parallel(n_jobs=1)]: Using backend SequentialBackend with 1 concurrent workers.\n",
      "[Parallel(n_jobs=1)]: Done 7758 out of 7758 | elapsed:    0.5s finished\n"
     ]
    },
    {
     "name": "stdout",
     "output_type": "stream",
     "text": [
      "0.322 --> "
     ]
    },
    {
     "name": "stderr",
     "output_type": "stream",
     "text": [
      "[Parallel(n_jobs=1)]: Using backend SequentialBackend with 1 concurrent workers.\n",
      "[Parallel(n_jobs=1)]: Done 7758 out of 7758 | elapsed:    0.4s finished\n"
     ]
    },
    {
     "name": "stdout",
     "output_type": "stream",
     "text": [
      "0.281 --> "
     ]
    },
    {
     "name": "stderr",
     "output_type": "stream",
     "text": [
      "[Parallel(n_jobs=1)]: Using backend SequentialBackend with 1 concurrent workers.\n",
      "[Parallel(n_jobs=1)]: Done 7758 out of 7758 | elapsed:    0.4s finished\n"
     ]
    },
    {
     "name": "stdout",
     "output_type": "stream",
     "text": [
      "0.278 --> \n"
     ]
    },
    {
     "name": "stderr",
     "output_type": "stream",
     "text": [
      "[Parallel(n_jobs=1)]: Using backend SequentialBackend with 1 concurrent workers.\n",
      "[Parallel(n_jobs=1)]: Done 7758 out of 7758 | elapsed:    0.4s finished\n"
     ]
    },
    {
     "name": "stdout",
     "output_type": "stream",
     "text": [
      "created: ./cluster_models/all_4_temp_2_omega_all_data\n",
      "saved model to file\n",
      "saved cloud_ids to disk\n",
      "saved model\n",
      "3 (2865, 24, 1)\n"
     ]
    },
    {
     "name": "stderr",
     "output_type": "stream",
     "text": [
      "[Parallel(n_jobs=1)]: Using backend SequentialBackend with 1 concurrent workers.\n"
     ]
    },
    {
     "name": "stdout",
     "output_type": "stream",
     "text": [
      "1 (2865, 24, 1)\n",
      "3\n"
     ]
    },
    {
     "name": "stderr",
     "output_type": "stream",
     "text": [
      "[Parallel(n_jobs=1)]: Done 2865 out of 2865 | elapsed:    0.1s finished\n",
      "[Parallel(n_jobs=1)]: Using backend SequentialBackend with 1 concurrent workers.\n",
      "[Parallel(n_jobs=1)]: Done 8595 out of 8595 | elapsed:    0.5s finished\n",
      "[Parallel(n_jobs=1)]: Using backend SequentialBackend with 1 concurrent workers.\n",
      "[Parallel(n_jobs=1)]: Done 8595 out of 8595 | elapsed:    0.5s finished\n",
      "[Parallel(n_jobs=1)]: Using backend SequentialBackend with 1 concurrent workers.\n",
      "[Parallel(n_jobs=1)]: Done 8595 out of 8595 | elapsed:    0.5s finished\n"
     ]
    },
    {
     "name": "stdout",
     "output_type": "stream",
     "text": [
      "1.446 --> "
     ]
    },
    {
     "name": "stderr",
     "output_type": "stream",
     "text": [
      "[Parallel(n_jobs=1)]: Using backend SequentialBackend with 1 concurrent workers.\n",
      "[Parallel(n_jobs=1)]: Done 8595 out of 8595 | elapsed:    0.4s finished\n"
     ]
    },
    {
     "name": "stdout",
     "output_type": "stream",
     "text": [
      "1.065 --> "
     ]
    },
    {
     "name": "stderr",
     "output_type": "stream",
     "text": [
      "[Parallel(n_jobs=1)]: Using backend SequentialBackend with 1 concurrent workers.\n",
      "[Parallel(n_jobs=1)]: Done 8595 out of 8595 | elapsed:    0.4s finished\n"
     ]
    },
    {
     "name": "stdout",
     "output_type": "stream",
     "text": [
      "1.056 --> \n"
     ]
    },
    {
     "name": "stderr",
     "output_type": "stream",
     "text": [
      "[Parallel(n_jobs=1)]: Using backend SequentialBackend with 1 concurrent workers.\n",
      "[Parallel(n_jobs=1)]: Done 8595 out of 8595 | elapsed:    0.4s finished\n"
     ]
    },
    {
     "name": "stdout",
     "output_type": "stream",
     "text": [
      "created: ./cluster_models/all_4_temp_1_omega_all_data\n",
      "saved model to file\n",
      "saved cloud_ids to disk\n",
      "saved model\n",
      "3 (3514, 24, 1)\n",
      "3 (3514, 24, 1)\n"
     ]
    },
    {
     "name": "stderr",
     "output_type": "stream",
     "text": [
      "[Parallel(n_jobs=1)]: Using backend SequentialBackend with 1 concurrent workers.\n",
      "[Parallel(n_jobs=1)]: Done 3514 out of 3514 | elapsed:    0.2s finished\n",
      "[Parallel(n_jobs=1)]: Using backend SequentialBackend with 1 concurrent workers.\n",
      "[Parallel(n_jobs=1)]: Done 10542 out of 10542 | elapsed:    0.6s finished\n",
      "[Parallel(n_jobs=1)]: Using backend SequentialBackend with 1 concurrent workers.\n",
      "[Parallel(n_jobs=1)]: Done 10542 out of 10542 | elapsed:    0.6s finished\n",
      "[Parallel(n_jobs=1)]: Using backend SequentialBackend with 1 concurrent workers.\n",
      "[Parallel(n_jobs=1)]: Done 10542 out of 10542 | elapsed:    1.5s finished\n"
     ]
    },
    {
     "name": "stdout",
     "output_type": "stream",
     "text": [
      "1.584 --> "
     ]
    },
    {
     "name": "stderr",
     "output_type": "stream",
     "text": [
      "[Parallel(n_jobs=1)]: Using backend SequentialBackend with 1 concurrent workers.\n",
      "[Parallel(n_jobs=1)]: Done 10542 out of 10542 | elapsed:    0.6s finished\n"
     ]
    },
    {
     "name": "stdout",
     "output_type": "stream",
     "text": [
      "1.079 --> "
     ]
    },
    {
     "name": "stderr",
     "output_type": "stream",
     "text": [
      "[Parallel(n_jobs=1)]: Using backend SequentialBackend with 1 concurrent workers.\n",
      "[Parallel(n_jobs=1)]: Done 10542 out of 10542 | elapsed:    1.0s finished\n"
     ]
    },
    {
     "name": "stdout",
     "output_type": "stream",
     "text": [
      "1.057 --> "
     ]
    },
    {
     "name": "stderr",
     "output_type": "stream",
     "text": [
      "[Parallel(n_jobs=1)]: Using backend SequentialBackend with 1 concurrent workers.\n",
      "[Parallel(n_jobs=1)]: Done 10542 out of 10542 | elapsed:    0.6s finished\n"
     ]
    },
    {
     "name": "stdout",
     "output_type": "stream",
     "text": [
      "1.050 --> \n"
     ]
    },
    {
     "name": "stderr",
     "output_type": "stream",
     "text": [
      "[Parallel(n_jobs=1)]: Using backend SequentialBackend with 1 concurrent workers.\n",
      "[Parallel(n_jobs=1)]: Done 10542 out of 10542 | elapsed:    0.6s finished\n"
     ]
    },
    {
     "name": "stdout",
     "output_type": "stream",
     "text": [
      "created: ./cluster_models/all_4_temp_3_omega_all_data\n",
      "saved model to file\n",
      "saved cloud_ids to disk\n",
      "saved model\n"
     ]
    }
   ],
   "source": [
    "if __name__ == '__main__':\n",
    "    pool = mp.Pool(4)\n",
    "    for cluster_idx in parent_cluster_pred_df.cluster_idx.unique():\n",
    "        print(cluster_idx)\n",
    "        # get cloud_ids of cluster\n",
    "        cluster_cloud_ids = parent_cluster_pred_df.query(f\"cluster_idx=={cluster_idx}\").cloud_id.unique()\n",
    "        # create clustering input data\n",
    "        traj_df, traj_array, X = prep_cluster_data(df, [\"OMEGA_center\"], cloud_ids=cluster_cloud_ids)\n",
    "        print(cluster_idx, X.shape)\n",
    "        model_id = f\"temp_k{n_parent_clusters}_{cluster_idx}_omega\"\n",
    "        pool.apply_async(run_cluster, args=(3, X, cluster_cloud_ids, clustering_kws, model_id))\n",
    "    pool.close()"
   ]
  }
 ],
 "metadata": {
  "kernelspec": {
   "display_name": "Python [conda env:clustering]",
   "language": "python",
   "name": "conda-env-clustering-py"
  },
  "language_info": {
   "codemirror_mode": {
    "name": "ipython",
    "version": 3
   },
   "file_extension": ".py",
   "mimetype": "text/x-python",
   "name": "python",
   "nbconvert_exporter": "python",
   "pygments_lexer": "ipython3",
   "version": "3.9.16"
  }
 },
 "nbformat": 4,
 "nbformat_minor": 5
}
